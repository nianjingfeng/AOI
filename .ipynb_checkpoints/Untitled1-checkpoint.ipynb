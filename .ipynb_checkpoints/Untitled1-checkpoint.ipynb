{
 "cells": [
  {
   "cell_type": "code",
   "execution_count": null,
   "id": "df415edf",
   "metadata": {},
   "outputs": [],
   "source": [
    "#!/usr/bin/env python\n",
    "import os\n",
    "import argparse\n",
    "import json\n",
    "import shutil\n",
    "import socket\n",
    "import numpy as np\n",
    "import yaml\n",
    "import io\n",
    "import tools\n",
    "import tools.utils as utils\n",
    "import utils\n",
    "import threading, cv2, glob\n",
    "import openpose, time\n",
    "\n",
    "s = socket.socket(socket.AF_INET, socket.SOCK_DGRAM)\n",
    "s.setsockopt(socket.SOL_SOCKET, socket.SO_BROADCAST, 1)\n",
    "PORT = 5001\n",
    "network = '192.168.0.103'\n",
    "s.sendto(\"microfong test\".encode('utf-8'), (network, PORT))\n",
    "def start():\n",
    "    #print('Open openpose')\n",
    "    os.system(\"cd openpose/;./build/examples/openpose/openpose.bin --hand --logging_level 3 --model_pose BODY_25 --alpha_pose 0.6 --scale_number 1 --render_threshold 0.05 --num_gpu_start 0  --write_json ./json_cache\") #--render_pose 0 --display 0\n",
    "\n",
    "for i in os.listdir(\"./openpose/json_cache\"):\n",
    "    os.remove(\"./openpose/json_cache/\"+i)\n",
    "t = threading.Thread(target = start)\n",
    "t.start()\n",
    "while True:\n",
    "    #print(os.listdir(\"./openpose/json_cache\"))\n",
    "    for i in os.listdir(\"./openpose/json_cache\"):\n",
    "        with open(\"./openpose/json_cache/\"+i, newline='') as jsonfile:\n",
    "            print(i,' sended')\n",
    "            s.sendto(jsonfile.read().encode('utf-8'), (network, PORT))\n",
    "        #print(i)\n",
    "        os.remove(\"./openpose/json_cache/\"+i)\n",
    "    #time.sleep(1)"
   ]
  }
 ],
 "metadata": {
  "kernelspec": {
   "display_name": "Python 3",
   "language": "python",
   "name": "python3"
  },
  "language_info": {
   "codemirror_mode": {
    "name": "ipython",
    "version": 3
   },
   "file_extension": ".py",
   "mimetype": "text/x-python",
   "name": "python",
   "nbconvert_exporter": "python",
   "pygments_lexer": "ipython3",
   "version": "3.8.8"
  }
 },
 "nbformat": 4,
 "nbformat_minor": 5
}
